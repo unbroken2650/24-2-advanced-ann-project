{
  "cells": [
    {
      "cell_type": "markdown",
      "metadata": {
        "colab_type": "text",
        "id": "view-in-github"
      },
      "source": [
        "<a href=\"https://colab.research.google.com/github/bmil-ssu/advanced_ann/blob/main/2024/Code/Advanced_Ann_project.ipynb\" target=\"_parent\"><img src=\"https://colab.research.google.com/assets/colab-badge.svg\" alt=\"Open In Colab\"/></a>"
      ]
    },
    {
      "cell_type": "markdown",
      "metadata": {
        "id": "eNojonEPEhhj"
      },
      "source": [
        "# 라이브러리 호출 및 시드 고정 (호출 함수만 추가 가능, 시드 변경 불가)"
      ]
    },
    {
      "cell_type": "code",
      "execution_count": 1,
      "metadata": {
        "id": "RwKtyvrPQ5M5"
      },
      "outputs": [],
      "source": [
        "import random\n",
        "\n",
        "import matplotlib.pyplot as plt\n",
        "import numpy as np\n",
        "import pandas as pd\n",
        "import torch\n",
        "import torch.nn.functional as F\n",
        "import torch.nn as nn\n",
        "import torch.optim as optim\n",
        "from sklearn.metrics import (accuracy_score, f1_score, precision_score,\n",
        "                             recall_score)\n",
        "from torch.utils.data import DataLoader, TensorDataset, random_split\n",
        "\n",
        "# 랜덤 시드 고정\n",
        "\n",
        "\n",
        "def set_seed(seed):\n",
        "    torch.manual_seed(seed)\n",
        "    torch.cuda.manual_seed(seed)\n",
        "    np.random.seed(seed)\n",
        "    random.seed(seed)\n",
        "    torch.backends.cudnn.deterministic = True\n",
        "    torch.backends.cudnn.benchmark = False\n",
        "\n",
        "\n",
        "set_seed(42)  # 시드 고정 값 사용"
      ]
    },
    {
      "cell_type": "markdown",
      "metadata": {
        "id": "4asiuNIMEmJO"
      },
      "source": [
        "# 하이퍼파리미터 설정 및 모델 정의（하이퍼파리미터 튜닝）(수정 가능 부분)"
      ]
    },
    {
      "cell_type": "code",
      "execution_count": 2,
      "metadata": {
        "id": "0asvhf4LDUk0"
      },
      "outputs": [],
      "source": [
        "# 하이퍼파라미터 설정\n",
        "batch_size = 64\n",
        "num_epochs = 300\n",
        "learning_rate = 1e-3\n",
        "latent_size = 1640\n",
        "\n",
        "# Autoencoder 모델 정의\n",
        "\n",
        "\n",
        "class Autoencoder(nn.Module):\n",
        "    def __init__(self):\n",
        "        super(Autoencoder, self).__init__()\n",
        "        self.encoder = nn.Sequential(\n",
        "            nn.Linear(784, 550),\n",
        "            nn.LeakyReLU(),\n",
        "            nn.Linear(550, 300),\n",
        "            nn.LeakyReLU(),\n",
        "            nn.Linear(300, 150),\n",
        "            nn.LeakyReLU(),\n",
        "            nn.Linear(150, 64),\n",
        "            nn.LeakyReLU(),\n",
        "            nn.Linear(64, latent_size)\n",
        "        )\n",
        "        for i in range(100):\n",
        "            self.encoder.append(nn.Sequential(\n",
        "                nn.Linear(784-2*i, 784-4*i)\n",
        "            ))\n",
        "        self.decoder = nn.Sequential(\n",
        "            nn.Linear(latent_size, 150),\n",
        "            nn.LeakyReLU(),\n",
        "            nn.Linear(150, 300),\n",
        "            nn.LeakyReLU(),\n",
        "            nn.Linear(300, 550),\n",
        "            nn.LeakyReLU(),\n",
        "            nn.Linear(550, 784),\n",
        "            nn.Sigmoid()\n",
        "        )\n",
        "\n",
        "    def forward(self, x):\n",
        "        x = self.encoder(x)\n",
        "        x = self.decoder(x)\n",
        "        return x\n",
        "\n",
        "\n",
        "# 모델, 손실 함수, 옵티마이저 정의\n",
        "device = torch.device(\"cuda:3\" if torch.cuda.is_available() else \"cpu\")\n",
        "model = Autoencoder().to(device)\n",
        "loss_fn = nn.MSELoss()\n",
        "optimizer = optim.NAdam(model.parameters(), lr=learning_rate)\n",
        "\n",
        "# threshold 설정 기준\n",
        "\n",
        "\n",
        "def find_best_threshold(thresholds, valid_errors, y_valid_combined):\n",
        "    best_threshold = 0\n",
        "    best_accuracy = 0\n",
        "    best_precision = 0\n",
        "    best_recall = 0\n",
        "    best_f1 = 0\n",
        "    best_y_pred = None\n",
        "\n",
        "    accuracies = []\n",
        "    precisions = []\n",
        "    recalls = []\n",
        "    f1_scores = []\n",
        "\n",
        "    for threshold in thresholds:\n",
        "        y_pred = (valid_errors > threshold).astype(int)\n",
        "        acc = accuracy_score(y_valid_combined, y_pred)\n",
        "        precision = precision_score(y_valid_combined, y_pred, zero_division=0)\n",
        "        recall = recall_score(y_valid_combined, y_pred, zero_division=0)\n",
        "        f1 = f1_score(y_valid_combined, y_pred, zero_division=0)\n",
        "\n",
        "        accuracies.append(acc)\n",
        "        precisions.append(precision)\n",
        "        recalls.append(recall)\n",
        "        f1_scores.append(f1)\n",
        "\n",
        "        if acc > best_accuracy:\n",
        "            best_accuracy = acc\n",
        "            best_threshold = threshold\n",
        "            best_precision = precision\n",
        "            best_recall = recall\n",
        "            best_f1 = f1\n",
        "            best_y_pred = y_pred\n",
        "\n",
        "    return best_threshold, best_accuracy, best_precision, best_recall, best_f1, accuracies, precisions, recalls, f1_scores"
      ]
    },
    {
      "cell_type": "markdown",
      "metadata": {
        "id": "BERPvzCHEaC_"
      },
      "source": [
        "# 데이터 로드 및 전처리 (수정 불가)"
      ]
    },
    {
      "cell_type": "code",
      "execution_count": 3,
      "metadata": {
        "id": "EEeLBFZyJ51c"
      },
      "outputs": [],
      "source": [
        "# EMNIST 데이터 로드\n",
        "train_data = pd.read_csv('./data/emnist-balanced-train.csv', header=None)\n",
        "test_data = pd.read_csv('./data/emnist-balanced-test.csv', header=None)\n",
        "\n",
        "# 데이터 전처리\n",
        "X_train = train_data.iloc[:, 1:].values.astype('float32') / 255.\n",
        "y_train = train_data.iloc[:, 0].values\n",
        "X_test = test_data.iloc[:, 1:].values.astype('float32') / 255.\n",
        "y_test = test_data.iloc[:, 0].values\n",
        "\n",
        "# 28x28 이미지를 1차원 벡터로 변환\n",
        "X_train = X_train.reshape((X_train.shape[0], 784))\n",
        "X_test = X_test.reshape((X_test.shape[0], 784))\n",
        "\n",
        "# Validation 데이터를 Train 데이터에서 3:1 비율로 분리\n",
        "train_size = int(0.75 * len(X_train))\n",
        "valid_size = len(X_train) - train_size\n",
        "\n",
        "train_dataset_full = TensorDataset(torch.tensor(X_train), torch.tensor(y_train))\n",
        "train_dataset, valid_dataset = random_split(train_dataset_full, [train_size, valid_size])\n",
        "\n",
        "# Validation 데이터에서 정상(숫자)과 비정상(문자) 데이터 분리\n",
        "valid_data = torch.stack([data[0] for data in valid_dataset])\n",
        "valid_labels = torch.tensor([data[1].item() for data in valid_dataset])\n",
        "\n",
        "valid_digits = valid_data[valid_labels < 10]\n",
        "valid_digits_labels = torch.zeros(len(valid_digits))  # 정상 데이터\n",
        "valid_letters = valid_data[valid_labels >= 10]\n",
        "valid_letters_labels = torch.ones(len(valid_letters))  # 비정상 데이터\n",
        "\n",
        "# Validation 데이터에서 숫자와 문자의 수를 동일하게 맞추기\n",
        "min_valid_count = min(len(valid_digits), len(valid_letters))\n",
        "valid_digits = valid_digits[:min_valid_count]\n",
        "valid_digits_labels = valid_digits_labels[:min_valid_count]\n",
        "valid_letters = valid_letters[:min_valid_count]\n",
        "valid_letters_labels = valid_letters_labels[:min_valid_count]\n",
        "\n",
        "# 최종 Validation 데이터셋 생성\n",
        "valid_data_combined = torch.cat([valid_digits, valid_letters])\n",
        "valid_labels_combined = torch.cat([valid_digits_labels, valid_letters_labels])\n",
        "valid_dataset_final = TensorDataset(valid_data_combined, valid_labels_combined)\n",
        "\n",
        "# Train 데이터에서 숫자 데이터만 남기기\n",
        "X_train_digits = X_train[y_train < 10]\n",
        "train_dataset = TensorDataset(torch.tensor(X_train_digits), torch.tensor(X_train_digits))\n",
        "\n",
        "# Test 데이터에서 정상(숫자)과 비정상(문자) 데이터 분리\n",
        "X_test_digits = X_test[y_test < 10]\n",
        "X_test_letters = X_test[y_test >= 10]\n",
        "\n",
        "# Test 데이터에서 숫자와 문자의 수를 동일하게 맞추기\n",
        "min_test_count = min(len(X_test_digits), len(X_test_letters))\n",
        "X_test_digits = X_test_digits[:min_test_count]\n",
        "X_test_letters = X_test_letters[:min_test_count]\n",
        "\n",
        "test_digits_dataset = TensorDataset(torch.tensor(X_test_digits), torch.zeros(X_test_digits.shape[0]))\n",
        "test_letters_dataset = TensorDataset(torch.tensor(X_test_letters), torch.ones(X_test_letters.shape[0]))\n",
        "\n",
        "# DataLoader 생성\n",
        "train_loader = DataLoader(train_dataset, batch_size=batch_size, shuffle=True)\n",
        "valid_loader = DataLoader(valid_dataset_final, batch_size=batch_size, shuffle=True)\n",
        "test_digits_loader = DataLoader(test_digits_dataset, batch_size=batch_size)\n",
        "test_letters_loader = DataLoader(test_letters_dataset, batch_size=batch_size)\n",
        "\n",
        "# Test 데이터의 정상(숫자)과 비정상(문자) 데이터 결합\n",
        "X_test_combined = np.concatenate([X_test_digits, X_test_letters], axis=0)\n",
        "y_test_combined = np.concatenate([np.zeros(len(X_test_digits)), np.ones(len(X_test_letters))], axis=0)"
      ]
    },
    {
      "cell_type": "markdown",
      "metadata": {
        "id": "sXnCKqV7EwTT"
      },
      "source": [
        "# 모델 학습 (수정 불가)"
      ]
    },
    {
      "cell_type": "code",
      "execution_count": 4,
      "metadata": {
        "colab": {
          "base_uri": "https://localhost:8080/"
        },
        "id": "yzHpiJOpDUmw",
        "outputId": "724da344-560f-4013-942f-d3e9b5954473"
      },
      "outputs": [
        {
          "ename": "TypeError",
          "evalue": "'NoneType' object is not callable",
          "output_type": "error",
          "traceback": [
            "\u001b[0;31m---------------------------------------------------------------------------\u001b[0m",
            "\u001b[0;31mTypeError\u001b[0m                                 Traceback (most recent call last)",
            "Cell \u001b[0;32mIn[4], line 9\u001b[0m\n\u001b[1;32m      6\u001b[0m data \u001b[38;5;241m=\u001b[39m data\u001b[38;5;241m.\u001b[39mto(device)\n\u001b[1;32m      8\u001b[0m \u001b[38;5;66;03m# 순전파\u001b[39;00m\n\u001b[0;32m----> 9\u001b[0m outputs \u001b[38;5;241m=\u001b[39m \u001b[43mmodel\u001b[49m\u001b[43m(\u001b[49m\u001b[43mdata\u001b[49m\u001b[43m)\u001b[49m\n\u001b[1;32m     10\u001b[0m loss \u001b[38;5;241m=\u001b[39m loss_fn(outputs, data)\n\u001b[1;32m     12\u001b[0m \u001b[38;5;66;03m# 역전파 및 최적화\u001b[39;00m\n",
            "File \u001b[0;32m~/.local/share/virtualenvs/24-2-advanced-ann-project-ckLx1EYr/lib/python3.11/site-packages/torch/nn/modules/module.py:1736\u001b[0m, in \u001b[0;36mModule._wrapped_call_impl\u001b[0;34m(self, *args, **kwargs)\u001b[0m\n\u001b[1;32m   1734\u001b[0m     \u001b[38;5;28;01mreturn\u001b[39;00m \u001b[38;5;28mself\u001b[39m\u001b[38;5;241m.\u001b[39m_compiled_call_impl(\u001b[38;5;241m*\u001b[39margs, \u001b[38;5;241m*\u001b[39m\u001b[38;5;241m*\u001b[39mkwargs)  \u001b[38;5;66;03m# type: ignore[misc]\u001b[39;00m\n\u001b[1;32m   1735\u001b[0m \u001b[38;5;28;01melse\u001b[39;00m:\n\u001b[0;32m-> 1736\u001b[0m     \u001b[38;5;28;01mreturn\u001b[39;00m \u001b[38;5;28;43mself\u001b[39;49m\u001b[38;5;241;43m.\u001b[39;49m\u001b[43m_call_impl\u001b[49m\u001b[43m(\u001b[49m\u001b[38;5;241;43m*\u001b[39;49m\u001b[43margs\u001b[49m\u001b[43m,\u001b[49m\u001b[43m \u001b[49m\u001b[38;5;241;43m*\u001b[39;49m\u001b[38;5;241;43m*\u001b[39;49m\u001b[43mkwargs\u001b[49m\u001b[43m)\u001b[49m\n",
            "File \u001b[0;32m~/.local/share/virtualenvs/24-2-advanced-ann-project-ckLx1EYr/lib/python3.11/site-packages/torch/nn/modules/module.py:1747\u001b[0m, in \u001b[0;36mModule._call_impl\u001b[0;34m(self, *args, **kwargs)\u001b[0m\n\u001b[1;32m   1742\u001b[0m \u001b[38;5;66;03m# If we don't have any hooks, we want to skip the rest of the logic in\u001b[39;00m\n\u001b[1;32m   1743\u001b[0m \u001b[38;5;66;03m# this function, and just call forward.\u001b[39;00m\n\u001b[1;32m   1744\u001b[0m \u001b[38;5;28;01mif\u001b[39;00m \u001b[38;5;129;01mnot\u001b[39;00m (\u001b[38;5;28mself\u001b[39m\u001b[38;5;241m.\u001b[39m_backward_hooks \u001b[38;5;129;01mor\u001b[39;00m \u001b[38;5;28mself\u001b[39m\u001b[38;5;241m.\u001b[39m_backward_pre_hooks \u001b[38;5;129;01mor\u001b[39;00m \u001b[38;5;28mself\u001b[39m\u001b[38;5;241m.\u001b[39m_forward_hooks \u001b[38;5;129;01mor\u001b[39;00m \u001b[38;5;28mself\u001b[39m\u001b[38;5;241m.\u001b[39m_forward_pre_hooks\n\u001b[1;32m   1745\u001b[0m         \u001b[38;5;129;01mor\u001b[39;00m _global_backward_pre_hooks \u001b[38;5;129;01mor\u001b[39;00m _global_backward_hooks\n\u001b[1;32m   1746\u001b[0m         \u001b[38;5;129;01mor\u001b[39;00m _global_forward_hooks \u001b[38;5;129;01mor\u001b[39;00m _global_forward_pre_hooks):\n\u001b[0;32m-> 1747\u001b[0m     \u001b[38;5;28;01mreturn\u001b[39;00m \u001b[43mforward_call\u001b[49m\u001b[43m(\u001b[49m\u001b[38;5;241;43m*\u001b[39;49m\u001b[43margs\u001b[49m\u001b[43m,\u001b[49m\u001b[43m \u001b[49m\u001b[38;5;241;43m*\u001b[39;49m\u001b[38;5;241;43m*\u001b[39;49m\u001b[43mkwargs\u001b[49m\u001b[43m)\u001b[49m\n\u001b[1;32m   1749\u001b[0m result \u001b[38;5;241m=\u001b[39m \u001b[38;5;28;01mNone\u001b[39;00m\n\u001b[1;32m   1750\u001b[0m called_always_called_hooks \u001b[38;5;241m=\u001b[39m \u001b[38;5;28mset\u001b[39m()\n",
            "Cell \u001b[0;32mIn[2], line 46\u001b[0m, in \u001b[0;36mAutoencoder.forward\u001b[0;34m(self, x)\u001b[0m\n\u001b[1;32m     45\u001b[0m \u001b[38;5;28;01mdef\u001b[39;00m \u001b[38;5;21mforward\u001b[39m(\u001b[38;5;28mself\u001b[39m, x):\n\u001b[0;32m---> 46\u001b[0m     x \u001b[38;5;241m=\u001b[39m \u001b[38;5;28;43mself\u001b[39;49m\u001b[38;5;241;43m.\u001b[39;49m\u001b[43mencoder\u001b[49m\u001b[43m(\u001b[49m\u001b[43mx\u001b[49m\u001b[43m)\u001b[49m\n\u001b[1;32m     47\u001b[0m     noise \u001b[38;5;241m=\u001b[39m torch\u001b[38;5;241m.\u001b[39mrandn_like(x) \u001b[38;5;241m*\u001b[39m \u001b[38;5;241m0.1\u001b[39m\n\u001b[1;32m     48\u001b[0m     x \u001b[38;5;241m+\u001b[39m\u001b[38;5;241m=\u001b[39m noise\n",
            "File \u001b[0;32m~/.local/share/virtualenvs/24-2-advanced-ann-project-ckLx1EYr/lib/python3.11/site-packages/torch/nn/modules/module.py:1736\u001b[0m, in \u001b[0;36mModule._wrapped_call_impl\u001b[0;34m(self, *args, **kwargs)\u001b[0m\n\u001b[1;32m   1734\u001b[0m     \u001b[38;5;28;01mreturn\u001b[39;00m \u001b[38;5;28mself\u001b[39m\u001b[38;5;241m.\u001b[39m_compiled_call_impl(\u001b[38;5;241m*\u001b[39margs, \u001b[38;5;241m*\u001b[39m\u001b[38;5;241m*\u001b[39mkwargs)  \u001b[38;5;66;03m# type: ignore[misc]\u001b[39;00m\n\u001b[1;32m   1735\u001b[0m \u001b[38;5;28;01melse\u001b[39;00m:\n\u001b[0;32m-> 1736\u001b[0m     \u001b[38;5;28;01mreturn\u001b[39;00m \u001b[38;5;28;43mself\u001b[39;49m\u001b[38;5;241;43m.\u001b[39;49m\u001b[43m_call_impl\u001b[49m\u001b[43m(\u001b[49m\u001b[38;5;241;43m*\u001b[39;49m\u001b[43margs\u001b[49m\u001b[43m,\u001b[49m\u001b[43m \u001b[49m\u001b[38;5;241;43m*\u001b[39;49m\u001b[38;5;241;43m*\u001b[39;49m\u001b[43mkwargs\u001b[49m\u001b[43m)\u001b[49m\n",
            "File \u001b[0;32m~/.local/share/virtualenvs/24-2-advanced-ann-project-ckLx1EYr/lib/python3.11/site-packages/torch/nn/modules/module.py:1747\u001b[0m, in \u001b[0;36mModule._call_impl\u001b[0;34m(self, *args, **kwargs)\u001b[0m\n\u001b[1;32m   1742\u001b[0m \u001b[38;5;66;03m# If we don't have any hooks, we want to skip the rest of the logic in\u001b[39;00m\n\u001b[1;32m   1743\u001b[0m \u001b[38;5;66;03m# this function, and just call forward.\u001b[39;00m\n\u001b[1;32m   1744\u001b[0m \u001b[38;5;28;01mif\u001b[39;00m \u001b[38;5;129;01mnot\u001b[39;00m (\u001b[38;5;28mself\u001b[39m\u001b[38;5;241m.\u001b[39m_backward_hooks \u001b[38;5;129;01mor\u001b[39;00m \u001b[38;5;28mself\u001b[39m\u001b[38;5;241m.\u001b[39m_backward_pre_hooks \u001b[38;5;129;01mor\u001b[39;00m \u001b[38;5;28mself\u001b[39m\u001b[38;5;241m.\u001b[39m_forward_hooks \u001b[38;5;129;01mor\u001b[39;00m \u001b[38;5;28mself\u001b[39m\u001b[38;5;241m.\u001b[39m_forward_pre_hooks\n\u001b[1;32m   1745\u001b[0m         \u001b[38;5;129;01mor\u001b[39;00m _global_backward_pre_hooks \u001b[38;5;129;01mor\u001b[39;00m _global_backward_hooks\n\u001b[1;32m   1746\u001b[0m         \u001b[38;5;129;01mor\u001b[39;00m _global_forward_hooks \u001b[38;5;129;01mor\u001b[39;00m _global_forward_pre_hooks):\n\u001b[0;32m-> 1747\u001b[0m     \u001b[38;5;28;01mreturn\u001b[39;00m \u001b[43mforward_call\u001b[49m\u001b[43m(\u001b[49m\u001b[38;5;241;43m*\u001b[39;49m\u001b[43margs\u001b[49m\u001b[43m,\u001b[49m\u001b[43m \u001b[49m\u001b[38;5;241;43m*\u001b[39;49m\u001b[38;5;241;43m*\u001b[39;49m\u001b[43mkwargs\u001b[49m\u001b[43m)\u001b[49m\n\u001b[1;32m   1749\u001b[0m result \u001b[38;5;241m=\u001b[39m \u001b[38;5;28;01mNone\u001b[39;00m\n\u001b[1;32m   1750\u001b[0m called_always_called_hooks \u001b[38;5;241m=\u001b[39m \u001b[38;5;28mset\u001b[39m()\n",
            "File \u001b[0;32m~/.local/share/virtualenvs/24-2-advanced-ann-project-ckLx1EYr/lib/python3.11/site-packages/torch/nn/modules/container.py:250\u001b[0m, in \u001b[0;36mSequential.forward\u001b[0;34m(self, input)\u001b[0m\n\u001b[1;32m    248\u001b[0m \u001b[38;5;28;01mdef\u001b[39;00m \u001b[38;5;21mforward\u001b[39m(\u001b[38;5;28mself\u001b[39m, \u001b[38;5;28minput\u001b[39m):\n\u001b[1;32m    249\u001b[0m     \u001b[38;5;28;01mfor\u001b[39;00m module \u001b[38;5;129;01min\u001b[39;00m \u001b[38;5;28mself\u001b[39m:\n\u001b[0;32m--> 250\u001b[0m         \u001b[38;5;28minput\u001b[39m \u001b[38;5;241m=\u001b[39m \u001b[43mmodule\u001b[49m\u001b[43m(\u001b[49m\u001b[38;5;28;43minput\u001b[39;49m\u001b[43m)\u001b[49m\n\u001b[1;32m    251\u001b[0m     \u001b[38;5;28;01mreturn\u001b[39;00m \u001b[38;5;28minput\u001b[39m\n",
            "\u001b[0;31mTypeError\u001b[0m: 'NoneType' object is not callable"
          ]
        }
      ],
      "source": [
        "# Autoencoder 학습\n",
        "for epoch in range(num_epochs):\n",
        "    model.train()\n",
        "    running_loss = 0.0\n",
        "    for data, _ in train_loader:\n",
        "        data = data.to(device)\n",
        "\n",
        "        # 순전파\n",
        "        outputs = model(data)\n",
        "        loss = loss_fn(outputs, data)\n",
        "\n",
        "        # 역전파 및 최적화\n",
        "        optimizer.zero_grad()\n",
        "        loss.backward()\n",
        "        optimizer.step()\n",
        "\n",
        "        running_loss += loss.item()\n",
        "\n",
        "    print(f\"Epoch [{epoch + 1}/{num_epochs}], Loss: {running_loss / len(train_loader):.4f}\")"
      ]
    },
    {
      "cell_type": "markdown",
      "metadata": {
        "id": "qvOfOp37L2oN"
      },
      "source": [
        "# valid 성능 평가 (수정 불가)"
      ]
    },
    {
      "cell_type": "code",
      "execution_count": 5,
      "metadata": {
        "colab": {
          "base_uri": "https://localhost:8080/"
        },
        "id": "4QlcO5CuE3fj",
        "outputId": "cfe665ed-7093-4cb9-81a4-53a118bf5746"
      },
      "outputs": [
        {
          "name": "stdout",
          "output_type": "stream",
          "text": [
            "Best Threshold (Validation): 0.0416\n",
            "Best Accuracy (Validation): 0.9355\n",
            "Best Precision (Validation): 0.9774\n",
            "Best Recall (Validation): 0.8916\n",
            "Best F1-Score (Validation): 0.9325\n"
          ]
        }
      ],
      "source": [
        "# Validation 및 Test 데이터셋 평가 함수\n",
        "def evaluate(loader):\n",
        "    model.eval()\n",
        "    reconstruction_errors = []\n",
        "    labels = []\n",
        "    with torch.no_grad():\n",
        "        for data, label in loader:\n",
        "            data = data.to(device)\n",
        "            reconstructed = model(data).cpu().numpy()\n",
        "            reconstruction_error = np.mean(np.abs(reconstructed - data.cpu().numpy()), axis=1)\n",
        "            reconstruction_errors.extend(reconstruction_error)\n",
        "            labels.extend(label.numpy())  # 실제 라벨 저장\n",
        "    return np.array(reconstruction_errors), np.array(labels)\n",
        "\n",
        "\n",
        "# Validation 및 Test 데이터에 대한 재구성 오차 및 라벨 계산\n",
        "valid_errors, y_valid_combined = evaluate(valid_loader)\n",
        "test_digits_errors, _ = evaluate(test_digits_loader)\n",
        "test_letters_errors, _ = evaluate(test_letters_loader)\n",
        "\n",
        "# Validation 데이터의 임계값 찾기\n",
        "thresholds = np.linspace(np.min(valid_errors), np.max(valid_errors), 100)\n",
        "best_threshold, best_accuracy, best_precision, best_recall, best_f1, accuracies, precisions, recalls, f1_scores = find_best_threshold(\n",
        "    thresholds, valid_errors, y_valid_combined)\n",
        "\n",
        "print(f\"Best Threshold (Validation): {best_threshold:.4f}\")\n",
        "print(f\"Best Accuracy (Validation): {best_accuracy:.4f}\")\n",
        "print(f\"Best Precision (Validation): {best_precision:.4f}\")\n",
        "print(f\"Best Recall (Validation): {best_recall:.4f}\")\n",
        "print(f\"Best F1-Score (Validation): {best_f1:.4f}\")"
      ]
    },
    {
      "cell_type": "markdown",
      "metadata": {
        "id": "P0zZ4STzL6bT"
      },
      "source": [
        "# Test 성능 평가 (수정 불가)"
      ]
    },
    {
      "cell_type": "code",
      "execution_count": 6,
      "metadata": {
        "colab": {
          "base_uri": "https://localhost:8080/",
          "height": 638
        },
        "id": "quXnnBPS-kto",
        "outputId": "07780d00-2a9a-4b78-cf95-8b7b55a99d5c"
      },
      "outputs": [
        {
          "name": "stdout",
          "output_type": "stream",
          "text": [
            "Test Accuracy: 0.7176\n",
            "Precision: 0.6626\n",
            "Recall: 0.8870\n",
            "F1-Score: 0.7585\n"
          ]
        },
        {
          "data": {
            "image/png": "[encoded data removed]",
            "text/plain": [
              "<Figure size 1000x600 with 1 Axes>"
            ]
          },
          "metadata": {},
          "output_type": "display_data"
        }
      ],
      "source": [
        "# 테스트 데이터에 대한 성능 평가\n",
        "test_combined_dataset = TensorDataset(torch.tensor(X_test_combined), torch.tensor(y_test_combined))\n",
        "test_combined_loader = DataLoader(test_combined_dataset, batch_size=batch_size)\n",
        "\n",
        "# 테스트 데이터에 대한 재구성 오차 및 라벨 계산\n",
        "test_combined_errors, y_test_combined_actual = evaluate(test_combined_loader)\n",
        "\n",
        "# 임계값을 이용하여 예측 라벨 생성\n",
        "y_test_pred = (test_combined_errors > best_threshold).astype(int)\n",
        "\n",
        "# 테스트 데이터에 대한 성능 평가\n",
        "test_accuracy = accuracy_score(y_test_combined_actual, y_test_pred)\n",
        "test_precision = precision_score(y_test_combined_actual, y_test_pred, zero_division=0)\n",
        "test_recall = recall_score(y_test_combined_actual, y_test_pred, zero_division=0)\n",
        "test_f1 = f1_score(y_test_combined_actual, y_test_pred, zero_division=0)\n",
        "\n",
        "print(f\"Test Accuracy: {test_accuracy:.4f}\")\n",
        "print(f\"Precision: {test_precision:.4f}\")\n",
        "print(f\"Recall: {test_recall:.4f}\")\n",
        "print(f\"F1-Score: {test_f1:.4f}\")\n",
        "\n",
        "# Anomaly Score (재구성 오차) 그래프 시각화\n",
        "plt.figure(figsize=(10, 6))\n",
        "plt.hist(test_digits_errors, bins=50, alpha=0.7, label='Normal (Digits)')\n",
        "plt.hist(test_letters_errors, bins=50, alpha=0.7, label='Anomalies (Letters)')\n",
        "plt.axvline(best_threshold, color='r', linestyle='--', label=f'Threshold (Best Accuracy)')\n",
        "plt.title('Anomaly Scores (Reconstruction Errors)')\n",
        "plt.xlabel('Reconstruction Error')\n",
        "plt.ylabel('Frequency')\n",
        "plt.legend()\n",
        "plt.show()"
      ]
    },
    {
      "cell_type": "code",
      "execution_count": null,
      "metadata": {
        "id": "Qlr1ulRjI5nL"
      },
      "outputs": [],
      "source": []
    }
  ],
  "metadata": {
    "accelerator": "GPU",
    "colab": {
      "authorship_tag": "ABX9TyPxqT06gltxYoOM3IZHEai8",
      "gpuType": "T4",
      "include_colab_link": true,
      "provenance": []
    },
    "kernelspec": {
      "display_name": "24-2-advanced-ann-project-ckLx1EYr",
      "language": "python",
      "name": "python3"
    },
    "language_info": {
      "codemirror_mode": {
        "name": "ipython",
        "version": 3
      },
      "file_extension": ".py",
      "mimetype": "text/x-python",
      "name": "python",
      "nbconvert_exporter": "python",
      "pygments_lexer": "ipython3",
      "version": "3.11.7"
    }
  },
  "nbformat": 4,
  "nbformat_minor": 0
}
